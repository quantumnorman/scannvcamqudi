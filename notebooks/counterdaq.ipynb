{
 "cells": [
  {
   "cell_type": "code",
   "execution_count": null,
   "id": "6a3f0e2c",
   "metadata": {},
   "outputs": [],
   "source": [
    "import nidaqmx\n",
    "from nidaqmx.constants import *\n",
    "import numpy as np\n",
    "from nidaqmx import stream_readers\n",
    "import time\n"
   ]
  },
  {
   "cell_type": "code",
   "execution_count": null,
   "id": "ab99b03f",
   "metadata": {},
   "outputs": [],
   "source": [
    "sampling_rate = 100000\n",
    "acq_time = 100 ###in ms\n",
    "number_samples = 100 * acq_time\n",
    "clock_port = \"Dev3/port0\"\n",
    "count_dev = \"Dev3/\"\n",
    "count_port = \"ctr0\"\n",
    "edge_type = Edge.RISING\n",
    "trig_edge_type = Edge.RISING\n",
    "trig_type = TriggerType.DIGITAL_EDGE\n",
    "pfi_port = \"PFI1\"\n",
    "\n",
    "params = {\n",
    "    sampling_rate : 100000,\n",
    "    acq_time : 100, ###in ms\n",
    "    number_samples : 100 * acq_time,\n",
    "    clock_port : \"Dev3/port0\",\n",
    "    count_dev : \"Dev3/\",\n",
    "    count_port : \"ctr0\",\n",
    "    edge_type : Edge.RISING,\n",
    "    trig_edge_type : Edge.RISING,\n",
    "    trig_type : TriggerType.DIGITAL_EDGE,\n",
    "    pfi_port : \"PFI1\"\n",
    "}"
   ]
  },
  {
   "cell_type": "code",
   "execution_count": 2,
   "id": "845e5a22",
   "metadata": {},
   "outputs": [],
   "source": [
    "def init_clock(port, sampling_rate):\n",
    "    sample_clock = nidaqmx.Task()\n",
    "    sample_clock.di_channels.add_di_chan(port)\n",
    "    sample_clock.timing.cfg_samp_clk_timing(rate= sampling_rate, sample_mode = AcquisitionType.CONTINUOUS)\n",
    "    sample_clock.control(TaskMode.TASK_COMMIT)\n",
    "    return sample_clock\n",
    "\n",
    "\n",
    "def init_read(dev, port, edge_type, trig_edge_type, trig_type, pfi_port):\n",
    "    read_task = nidaqmx.Task()\n",
    "    read_task.ci_channels.add_ci_count_edges_chan(\n",
    "                                dev + port,\n",
    "                                edge=edge_type,\n",
    "                                initial_count=0,\n",
    "                                count_direction=CountDirection.COUNT_UP)\n",
    "    read_task.ci_channels.all.ci_count_edges_term = \"/\"+ dev + pfi_port\n",
    "    \n",
    "    read_task.timing.cfg_samp_clk_timing(sampling_rate, source=\"/\" + dev + \"di/SampleClock\",\n",
    "        active_edge=Edge.RISING, sample_mode=AcquisitionType.CONTINUOUS)\n",
    "\n",
    "    # read_task.in_stream.input_buf_size = 120000000\n",
    "    \n",
    "    read_task.triggers.arm_start_trigger.trig_type = trig_type\n",
    "    read_task.triggers.arm_start_trigger.dig_edge_edge = trig_edge_type\n",
    "    read_task.triggers.arm_start_trigger.dig_edge_src = \"/\"+ dev+\"di/SampleClock\"\n",
    "\n",
    "    return read_task\n",
    "\n",
    "def run_counter(read_task, clock_task, number_samples, acq_time):\n",
    "    reader = stream_readers.CounterReader(read_task.in_stream)\n",
    "    clock_task.start()\n",
    "    read_task.start()\n",
    "    \n",
    "    data_array = np.empty(10000, dtype = np.uint32)\n",
    "    \n",
    "    reader.read_many_sample_uint32(data_array,\n",
    "    number_of_samples_per_channel=number_samples, timeout=acq_time)\n",
    "    time.sleep(acq_time * 0.001)\n",
    "    return data_array\n",
    "\n",
    "def stop_counter(read_task, clock_task):\n",
    "    clock_task.stop()\n",
    "    \n",
    "    read_task.stop()\n",
    "    \n",
    "def close_counter(read_task, clock_task):\n",
    "    clock_task.close()\n",
    "    read_task.close()\n",
    "    \n",
    "def get_countrate(sampling_rate, acq_time, number_samples, clock_port, count_dev, count_port, edge_type, trig_edge_type, trig_type, pfi_port):\n",
    "    clock_task = init_clock(clock_port, sampling_rate)\n",
    "\n",
    "    read_task = init_read(count_dev, count_port, edge_type, trig_edge_type, trig_type, pfi_port)\n",
    "\n",
    "    counter = run_counter(read_task, clock_task, number_samples, acq_time)\n",
    "\n",
    "    stop_counter(read_task, clock_task)\n",
    "\n",
    "    time = acq_time * 0.001\n",
    "    countrate = np.sum(counter) /time\n",
    "    \n",
    "    return countrate"
   ]
  },
  {
   "cell_type": "code",
   "execution_count": 1,
   "id": "5a7d58f3",
   "metadata": {},
   "outputs": [
    {
     "ename": "NameError",
     "evalue": "name 'get_countrate' is not defined",
     "output_type": "error",
     "traceback": [
      "\u001b[0;31m---------------------------------------------------------------------------\u001b[0m",
      "\u001b[0;31mNameError\u001b[0m                                 Traceback (most recent call last)",
      "Cell \u001b[0;32mIn[1], line 1\u001b[0m\n\u001b[0;32m----> 1\u001b[0m \u001b[38;5;28mprint\u001b[39m(\u001b[43mget_countrate\u001b[49m(\u001b[38;5;241m*\u001b[39m\u001b[38;5;241m*\u001b[39mparams))\n",
      "\u001b[0;31mNameError\u001b[0m: name 'get_countrate' is not defined"
     ]
    }
   ],
   "source": [
    "\n",
    "print(get_countrate(**params))"
   ]
  },
  {
   "cell_type": "code",
   "execution_count": null,
   "id": "6f802cf7",
   "metadata": {},
   "outputs": [],
   "source": [
    "stop_counter(read_task, clock_task)"
   ]
  },
  {
   "cell_type": "code",
   "execution_count": null,
   "id": "08f9e455",
   "metadata": {},
   "outputs": [],
   "source": [
    "close_counter(read_task, clock_task)"
   ]
  }
 ],
 "metadata": {
  "kernelspec": {
   "display_name": "scannv",
   "language": "python",
   "name": "python3"
  },
  "language_info": {
   "codemirror_mode": {
    "name": "ipython",
    "version": 3
   },
   "file_extension": ".py",
   "mimetype": "text/x-python",
   "name": "python",
   "nbconvert_exporter": "python",
   "pygments_lexer": "ipython3",
   "version": "3.9.21"
  }
 },
 "nbformat": 4,
 "nbformat_minor": 5
}
