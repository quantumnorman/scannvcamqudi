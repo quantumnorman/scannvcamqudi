{
 "cells": [
  {
   "cell_type": "code",
   "execution_count": null,
   "id": "d46a07d8",
   "metadata": {},
   "outputs": [],
   "source": [
    "\n",
    "from nidaqmx.stream_readers import AnalogMultiChannelReader, AnalogSingleChannelReader\n",
    "from nidaqmx import constants, Task, system\n",
    "from numpy import zeros, average\n",
    "from time import sleep\n",
    "from nidaqmx.constants import Edge, AcquisitionType\n"
   ]
  },
  {
   "cell_type": "code",
   "execution_count": null,
   "id": "a30801d9",
   "metadata": {},
   "outputs": [],
   "source": [
    "tasks = []"
   ]
  },
  {
   "cell_type": "code",
   "execution_count": null,
   "id": "b59fa0c7",
   "metadata": {},
   "outputs": [],
   "source": [
    "\n",
    "def create_ai_task(device, channels, min= -5, max = 5, rate=50):\n",
    "    task = Task(\"ai_stream_task\")\n",
    "    for chan in channels:\n",
    "        task.ai_channels.add_ai_voltage_chan(device + \"/\" + chan, \"instream_read_\" + str(chan), min_val = min, max_val = max)\n",
    "    task.timing.cfg_samp_clk_timing(rate = rate, active_edge = Edge.RISING, sample_mode = AcquisitionType.CONTINUOUS, samps_per_chan = 1)\n",
    "\n",
    "    ai_instream = AnalogMultiChannelReader(task.in_stream)\n",
    "    \n",
    "    return task, ai_instream\n",
    "\n",
    "def run_task(task, streamer, num_samples, rate):\n",
    "    if len(task.channel_names) !=1:\n",
    "        data_buffer =zeros(shape=(len(task.channel_names),num_samples))\n",
    "    else: data_buffer = zeros(shape=100)\n",
    "    samples = streamer.read_many_sample(data_buffer, number_of_samples_per_channel=num_samples, timeout=10)\n",
    "    # samples = task.read_one_sample(timeout=1)\n",
    "    dat = []\n",
    "    if len(data_buffer) != num_samples:\n",
    "        for i in data_buffer:\n",
    "            dat.append(average(i))\n",
    "    else: dat = average(data_buffer)\n",
    "    print(\"averages=\", dat)\n",
    "    return samples, dat\n",
    "    \n",
    "task, ai_instream = create_ai_task(\"Dev3\", ['ai0', 'ai1', 'ai2', 'ai3'], rate =  1000)\n",
    "tasks.append(task)"
   ]
  },
  {
   "cell_type": "code",
   "execution_count": null,
   "id": "dd0a89fe",
   "metadata": {},
   "outputs": [],
   "source": [
    "for task in tasks:\n",
    "    task.close()"
   ]
  },
  {
   "cell_type": "code",
   "execution_count": null,
   "id": "4211bdd8",
   "metadata": {},
   "outputs": [],
   "source": [
    "tasks"
   ]
  },
  {
   "cell_type": "code",
   "execution_count": null,
   "id": "2566fb92",
   "metadata": {},
   "outputs": [],
   "source": [
    "run = 0\n",
    "while run <25:\n",
    "    num_samples = 100\n",
    "    data_buffer =zeros(shape=(len(task.channel_names),num_samples))\n",
    "    # task.start()\n",
    "    # samples = ai_instream.read_many_sample(data_buffer, number_of_samples_per_channel=num_samples, timeout=1)\n",
    "    run_task(task, ai_instream, 100, 1000)\n",
    "\n",
    "    task.stop()\n",
    "    run +=1"
   ]
  },
  {
   "cell_type": "code",
   "execution_count": null,
   "id": "6337c65e",
   "metadata": {},
   "outputs": [],
   "source": [
    "analog_inchannels = ['ai0', 'ai1', 'ai2', 'ai3']\n",
    "sample_frequ = 100 ##Hz\n",
    "\n",
    "\n",
    "instream_task = nidaqmx.Task()\n",
    "channel_units = {}\n",
    "for chan in analog_inchannels:\n",
    "    instream_task.ai_channels.add_ai_voltage_chan(chan)\n",
    "\n",
    "    channel_units.update({chan: 'V'})\n",
    "\n",
    "clock_channel = f'/{_clk_task_handle.channel_names[0]}InternalOutput'\n",
    "\n",
    "sample_freq = float(_clk_task_handle.co_channels.all.co_pulse_freq)\n"
   ]
  },
  {
   "cell_type": "code",
   "execution_count": null,
   "id": "99be2822",
   "metadata": {},
   "outputs": [],
   "source": []
  },
  {
   "cell_type": "code",
   "execution_count": null,
   "id": "c240705b",
   "metadata": {},
   "outputs": [],
   "source": [
    "import nidaqmx as ni\n",
    "ni.system.System().devices.device_names"
   ]
  },
  {
   "cell_type": "code",
   "execution_count": null,
   "id": "fb9020c1",
   "metadata": {},
   "outputs": [],
   "source": [
    "_device_handle = ni.system.Device(\"Dev3\")"
   ]
  },
  {
   "cell_type": "code",
   "execution_count": null,
   "id": "6c80b0f0",
   "metadata": {},
   "outputs": [],
   "source": [
    "_device_handle.co_physical_chans.channel_names"
   ]
  }
 ],
 "metadata": {
  "kernelspec": {
   "display_name": ".venv",
   "language": "python",
   "name": "python3"
  },
  "language_info": {
   "codemirror_mode": {
    "name": "ipython",
    "version": 3
   },
   "file_extension": ".py",
   "mimetype": "text/x-python",
   "name": "python",
   "nbconvert_exporter": "python",
   "pygments_lexer": "ipython3",
   "version": "3.10.11"
  }
 },
 "nbformat": 4,
 "nbformat_minor": 5
}
