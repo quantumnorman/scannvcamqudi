{
 "cells": [
  {
   "cell_type": "code",
   "execution_count": null,
   "id": "d46a07d8",
   "metadata": {},
   "outputs": [],
   "source": [
    "import nidaqmx\n",
    "from nidaqmx.stream_readers import AnalogMultiChannelReader, AnalogSingleChannelReader"
   ]
  },
  {
   "cell_type": "code",
   "execution_count": null,
   "id": "6337c65e",
   "metadata": {},
   "outputs": [],
   "source": [
    "analog_inchannels = ['ai0', 'ai1', 'ai2', 'ai3']\n",
    "sample_frequ = 100 ##Hz\n",
    "\n",
    "\n",
    "instream_task = nidaqmx.Task()\n",
    "\n",
    "for chan in analog_inchannels:\n",
    "    instream_task.ai_channels.add_ai_voltage_chan(chan)\n",
    "\n"
   ]
  }
 ],
 "metadata": {
  "kernelspec": {
   "display_name": "scannv",
   "language": "python",
   "name": "python3"
  },
  "language_info": {
   "codemirror_mode": {
    "name": "ipython",
    "version": 3
   },
   "file_extension": ".py",
   "mimetype": "text/x-python",
   "name": "python",
   "nbconvert_exporter": "python",
   "pygments_lexer": "ipython3",
   "version": "3.9.21"
  }
 },
 "nbformat": 4,
 "nbformat_minor": 5
}
