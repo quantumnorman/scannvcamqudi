{
 "cells": [
  {
   "cell_type": "markdown",
   "metadata": {},
   "source": [
    "### Initializing Arduino relay, Keithley current source, and coil parameters\n",
    "\n",
    "##### NOTE: Running the \"initialize\" cell more than once per kernel session will throw errors since the resources are already accessed"
   ]
  },
  {
   "cell_type": "code",
   "execution_count": 10,
   "metadata": {},
   "outputs": [],
   "source": [
    "arduinoport = \"COM4\"\n",
    "keithleyname = \"ASRL5::INSTR\""
   ]
  },
  {
   "cell_type": "code",
   "execution_count": null,
   "metadata": {},
   "outputs": [],
   "source": []
  },
  {
   "cell_type": "code",
   "execution_count": 11,
   "metadata": {},
   "outputs": [],
   "source": [
    "import serial\n",
    "import time\n",
    "import sys\n",
    "import math as np\n",
    "import pyvisa as visa\n",
    "# visa.log_to_screen()\n",
    "rm = visa.ResourceManager()\n",
    "import pyfirmata\n"
   ]
  },
  {
   "cell_type": "code",
   "execution_count": 12,
   "metadata": {},
   "outputs": [
    {
     "name": "stdout",
     "output_type": "stream",
     "text": [
      "Keithley instruments, 2231A-30-3, 802196010727610334, 1.04-1.04\n",
      "\n",
      "Keithley Initialized\n"
     ]
    }
   ],
   "source": [
    "def initializerelay(port):\n",
    "    board = pyfirmata.Arduino(port)\n",
    "    it = pyfirmata.util.Iterator(board)\n",
    "    it.start()\n",
    "    return board\n",
    "arduino = initializerelay(arduinoport)\n",
    "\n",
    "\n",
    "def initializecoil(port):\n",
    "\n",
    "    keithley = rm.open_resource(port)\n",
    "    keithley.read_terloweration = \"\\n\"\n",
    "    keithley.write_termination = '\\n'\n",
    "    print(keithley.query(\"*IDN?\"))\n",
    "    keithley.write(\"SYST:REM\")\n",
    "    keithley.write(\"OUTP:STAT:ALL OFF\")\n",
    "    keithley.write('APP:VOLT 3.000000,3.000000,3.000000')\n",
    "    keithley.write(\"APP:CURR 0.000000,0.000000,0.000000\")\n",
    "    print(\"Keithley Initialized\")\n",
    "    return keithley\n",
    "\n",
    "keithley = initializecoil(keithleyname)\n",
    "\n",
    "\n",
    "fieldcoeffs = {\n",
    "    'X' : [1.36932, -0.0174511], ##slope, intercept\n",
    "    'Y' : [2.13605, 0.0259495],\n",
    "    'Z' : [1.24437, -0.0123547],\n",
    "}"
   ]
  },
  {
   "cell_type": "code",
   "execution_count": 18,
   "metadata": {},
   "outputs": [],
   "source": [
    "keithley.close()\n",
    "arduino.exit()"
   ]
  },
  {
   "cell_type": "markdown",
   "metadata": {},
   "source": [
    "### Control functions for Arduino and Keithley"
   ]
  },
  {
   "cell_type": "code",
   "execution_count": 13,
   "metadata": {},
   "outputs": [],
   "source": [
    "###Keithley controls\n",
    "def querychannel(channel, type):\n",
    "    keithley.write(\"INST:NSEL \" + str(channel))\n",
    "    dat = {}\n",
    "    if type == \"ALL\":\n",
    "        dat['channel'] = keithley.query(\"INST?\")\n",
    "        dat['CURR'] = keithley.query(\"MEAS:CURR?\")\n",
    "        dat['VOLT'] = keithley.query(\"MEAS:VOLT?\")\n",
    "    else: \n",
    "        dat['channel'] = keithley.query(\"INST?\")\n",
    "        dat[type] = keithley.query(\"MEAS:\" + type + \"?\")\n",
    "    return dat\n",
    "    \n",
    "# def write3channels(TYPE, x, y, z):\n",
    "#     \"Writes the TYPE (CURR or VOLT) to all three channels x, y, z on the current source\"\n",
    "#     s = \"APP:\" + TYPE + \" \" + str(abs(x)) + \",\"+str(abs(y))+\",\" + str(abs(z))\n",
    "#     keithley.write(s)\n",
    "#     return s\n",
    "\n",
    "\n",
    "def query3channels(type):\n",
    "    dat = {}\n",
    "    dat[\"X\"] = querychannel(1, type)\n",
    "    dat[\"Y\"] = querychannel(2, type)\n",
    "    dat[\"Z\"] = querychannel(3, type)\n",
    "    return dat\n",
    "def write3channels(inst, TYPE, x, y, z):\n",
    "    \"Writes the TYPE (CURR or VOLT) to all three channels x, y, z on the current source\"\n",
    "    s = \"APP:\" + TYPE + \" \" + str(abs(x)) + \",\"+str(abs(y))+\",\" + str(abs(z))\n",
    "    inst.write(s)\n",
    "    return s\n",
    "\n",
    "\n",
    "def fieldtocurrent(B, phi, theta, fieldcoeffs, lower, upper):\n",
    "    \"Converts the Bnorm, phi, and theta input values into x, y, z, current values using calibration parameters in fieldcoeffs\"\n",
    "    x, errx = calibbfieldtocurr(fieldcoeffs['X'], B * np.sin(theta)* np.cos(phi), lower, upper)\n",
    "    y, erry = calibbfieldtocurr(fieldcoeffs['Y'], B * np.sin(theta) * np.sin(phi), lower, upper)\n",
    "    z, errz = calibbfieldtocurr(fieldcoeffs['Z'], B * np.cos(theta), lower, upper)\n",
    "    if errx==erry==errz==None: return x,y,z, None\n",
    "    else: return x,y,z, [errx, erry, errz]\n",
    "\n",
    "\n",
    "def calibbfieldtocurr(fieldcoeffs, x, lower, upper):\n",
    "    \"Calibrates the field to current conversion using parameters in fieldcoeffs\"\n",
    "    y = (x - fieldcoeffs[1])/fieldcoeffs[0]\n",
    "    if lower<=y<=upper:\n",
    "        return y, None\n",
    "    elif y>upper: return upper, \"Current clipped to \" + str(upper) + \"A\"\n",
    "    elif y<lower: return lower, \"Current clipped to \" + str(lower) + \"A\"\n",
    "\n",
    "\n",
    "def setpolarity(x,y,z):\n",
    "    \"Determines the 3-bit polarity string to send to the Arduino Relay. 0 for positive polarity, 1 for negative polarity\"\n",
    "    pols = []\n",
    "    if abs(x) == x: pols.append(0)\n",
    "    else: pols.append(1)\n",
    "\n",
    "    if abs(y) == y: pols.append(0)\n",
    "    else: pols.append(1)\n",
    "\n",
    "    if abs(z) == z: pols.append(0)\n",
    "    else: pols.append(1)\n",
    "    pols = \"\".join(str(pol) for pol in pols)\n",
    "    print(pols)\n",
    "    setbfieldpol(pols)\n",
    "    output, d = getbfieldpol()\n",
    "\n",
    "    return d, pols\n",
    "\n",
    "\n",
    "def currenttofield(fieldcoeffs, x1, y1, z1):\n",
    "    \"Converts the x,y,z current input values into bnorm, phi, and theta values using calibration parameters in fieldcoeffs\"\n",
    "\n",
    "    x = calibcurrtobfield(fieldcoeffs[\"X\"], x1)\n",
    "    y = calibcurrtobfield(fieldcoeffs[\"Y\"], y1)\n",
    "    z = calibcurrtobfield(fieldcoeffs[\"Z\"], z1)\n",
    "\n",
    "    bnorm = np.sqrt(x**2 + y**2 + z**2)\n",
    "    phi = np.atan(y/x)\n",
    "    theta = np.acos(z/bnorm)\n",
    "    return bnorm, phi, theta\n",
    "\n",
    "\n",
    "def calibcurrtobfield(fieldcoeffs, x):\n",
    "    \"Calibrates the current to field conversion using parameters in fieldcoeffs\"\n",
    "    return (x * fieldcoeffs[0]) + fieldcoeffs[1]\n",
    "    \n",
    "\n",
    "def keithleyoff():\n",
    "    keithley.write(\"OUTP:STAT:ALL OFF\")\n",
    "    if keithley.query(\"OUTP:STAT:ALL?\")== '0\\n':\n",
    "        print(\"Keithley outputs disabled\")\n",
    "    else: print(\"Error, outputs may not be disabled\")\n",
    "\n",
    "\n",
    "###Arduino controls\n",
    "def setbfieldpol(pols): ####neg = 1, pos = 0\n",
    "    \"Writes the polarity to the Arduino relay. Must be a 3-bit string made of 0s and 1s\"\n",
    "    settings = \"set \" + pols + '\\n'\n",
    "    arduino.write(bytes(settings, 'utf-8'))\n",
    "    time.sleep(.1)\n",
    "    d = arduino.readline()\n",
    "    arduino.flush()\n",
    "    arduino.sendBreak()\n",
    "    arduino.flush()\n",
    "    return d\n",
    "\n",
    "\n",
    "def getbfieldpol():\n",
    "    \"Reads the field polarities from the Arduino relay\"\n",
    "    settings = 'get \\n'\n",
    "    arduino.write(bytes(settings, 'utf-8'))\n",
    "    time.sleep(.1)\n",
    "    output = {}\n",
    "    pols = arduino.readline()\n",
    "    print(pols)\n",
    "    \n",
    "\n",
    "    if pols[0] == \"0\": x = 1\n",
    "    else: x = -1\n",
    "    if pols[1] == \"0\": y = 1\n",
    "    else: y = -1\n",
    "    if pols[2] == \"0\": z = 1\n",
    "    else: z = -1\n",
    "    print(x,y,z)\n",
    "\n",
    "    arduino.flush()\n",
    "    arduino.sendBreak()\n",
    "    arduino.flush()    \n",
    "    return output, pols\n",
    "\n",
    "\n",
    "def setfield(bnorm, phi, theta, magneton):\n",
    "    if magneton == True:\n",
    "        keithley.write(\"OUTP:STAT:ALL ON\")\n",
    "\n",
    "    x,y,z, errs = fieldtocurrent(bnorm, phi, theta, fieldcoeffs, -3., 3.) ## Step 1 Convert input B field values to current values\n",
    "    print(\"Any clipped currents? \", errs)\n",
    "\n",
    "    d,pols = setpolarity(x,y,z) ##Step 2 set the Arduino relay polarities\n",
    "    print(\"String sent to Arduino relay and string read from Arduino: \", d, pols) ###d and pols should be the same (pols is what you're trying to set, d is what is read out)\n",
    "\n",
    "\n",
    "    s = write3channels(keithley, \"CURR\", x,y,z) ##Step 3 sets the current (using absolute values since this is setting to the Keithley and the Arduino will deal with the polarities)\n",
    "    print(\"String sent to kethiley: \", s)\n",
    "    dat = query3channels(keithley)\n",
    "    print(\"Final readings from Keithley: \", dat)\n",
    "    xf = float(dat[\"X\"][\"current\"])\n",
    "    yf = float(dat[\"Y\"][\"current\"])\n",
    "    zf = float(dat[\"Z\"][\"current\"])\n",
    "\n",
    "    bnormf, phif, thetaf = currenttofield(fieldcoeffs, xf, yf, zf) ##Convert read values to field values\n",
    "    print(\"Field set. Magnetic field readings:\")\n",
    "    \n",
    "    print(\"Set Bnorm\", bnorm, \"\\t\", \"Read Bnorm\", bnormf)\n",
    "    print(\"Set phi\", phi, \"\\t\", \"Read phi\", phif)\n",
    "    print(\"Set theta\", theta, \"\\t\", \"Read theta\", thetaf)\n"
   ]
  },
  {
   "cell_type": "markdown",
   "metadata": {},
   "source": [
    "### Run cells up to here to initialize magnet system. Change parameters below before moving on."
   ]
  },
  {
   "cell_type": "code",
   "execution_count": 5,
   "metadata": {},
   "outputs": [],
   "source": [
    "bnorm = 0.5 ## in mT\n",
    "phi = 0.7\n",
    "theta = 1.57\n",
    "magneton = True\n"
   ]
  },
  {
   "cell_type": "code",
   "execution_count": null,
   "metadata": {},
   "outputs": [],
   "source": [
    "arduino.write(bytes(\"set 111\", \"utf-8\"))"
   ]
  },
  {
   "cell_type": "code",
   "execution_count": null,
   "metadata": {},
   "outputs": [],
   "source": [
    "arduino.readline()"
   ]
  },
  {
   "cell_type": "markdown",
   "metadata": {},
   "source": [
    "### Run to set field"
   ]
  },
  {
   "cell_type": "code",
   "execution_count": 10,
   "metadata": {},
   "outputs": [
    {
     "name": "stdout",
     "output_type": "stream",
     "text": [
      "Any clipped currents?  None\n",
      "000\n"
     ]
    },
    {
     "ename": "AttributeError",
     "evalue": "'Arduino' object has no attribute 'write'",
     "output_type": "error",
     "traceback": [
      "\u001b[1;31m---------------------------------------------------------------------------\u001b[0m",
      "\u001b[1;31mAttributeError\u001b[0m                            Traceback (most recent call last)",
      "Cell \u001b[1;32mIn[10], line 1\u001b[0m\n\u001b[1;32m----> 1\u001b[0m \u001b[43msetfield\u001b[49m\u001b[43m(\u001b[49m\u001b[43mbnorm\u001b[49m\u001b[43m,\u001b[49m\u001b[43m \u001b[49m\u001b[43mphi\u001b[49m\u001b[43m,\u001b[49m\u001b[43m \u001b[49m\u001b[43mtheta\u001b[49m\u001b[43m,\u001b[49m\u001b[43m \u001b[49m\u001b[43mmagneton\u001b[49m\u001b[43m)\u001b[49m\n",
      "Cell \u001b[1;32mIn[7], line 140\u001b[0m, in \u001b[0;36msetfield\u001b[1;34m(bnorm, phi, theta, magneton)\u001b[0m\n\u001b[0;32m    137\u001b[0m x,y,z, errs \u001b[38;5;241m=\u001b[39m fieldtocurrent(bnorm, phi, theta, fieldcoeffs, \u001b[38;5;241m-\u001b[39m\u001b[38;5;241m3.\u001b[39m, \u001b[38;5;241m3.\u001b[39m) \u001b[38;5;66;03m## Step 1 Convert input B field values to current values\u001b[39;00m\n\u001b[0;32m    138\u001b[0m \u001b[38;5;28mprint\u001b[39m(\u001b[38;5;124m\"\u001b[39m\u001b[38;5;124mAny clipped currents? \u001b[39m\u001b[38;5;124m\"\u001b[39m, errs)\n\u001b[1;32m--> 140\u001b[0m d,pols \u001b[38;5;241m=\u001b[39m \u001b[43msetpolarity\u001b[49m\u001b[43m(\u001b[49m\u001b[43mx\u001b[49m\u001b[43m,\u001b[49m\u001b[43my\u001b[49m\u001b[43m,\u001b[49m\u001b[43mz\u001b[49m\u001b[43m)\u001b[49m \u001b[38;5;66;03m##Step 2 set the Arduino relay polarities\u001b[39;00m\n\u001b[0;32m    141\u001b[0m \u001b[38;5;28mprint\u001b[39m(\u001b[38;5;124m\"\u001b[39m\u001b[38;5;124mString sent to Arduino relay and string read from Arduino: \u001b[39m\u001b[38;5;124m\"\u001b[39m, d, pols) \u001b[38;5;66;03m###d and pols should be the same (pols is what you're trying to set, d is what is read out)\u001b[39;00m\n\u001b[0;32m    144\u001b[0m s \u001b[38;5;241m=\u001b[39m write3channels(keithley, \u001b[38;5;124m\"\u001b[39m\u001b[38;5;124mCURR\u001b[39m\u001b[38;5;124m\"\u001b[39m, x,y,z) \u001b[38;5;66;03m##Step 3 sets the current (using absolute values since this is setting to the Keithley and the Arduino will deal with the polarities)\u001b[39;00m\n",
      "Cell \u001b[1;32mIn[7], line 65\u001b[0m, in \u001b[0;36msetpolarity\u001b[1;34m(x, y, z)\u001b[0m\n\u001b[0;32m     63\u001b[0m pols \u001b[38;5;241m=\u001b[39m \u001b[38;5;124m\"\u001b[39m\u001b[38;5;124m\"\u001b[39m\u001b[38;5;241m.\u001b[39mjoin(\u001b[38;5;28mstr\u001b[39m(pol) \u001b[38;5;28;01mfor\u001b[39;00m pol \u001b[38;5;129;01min\u001b[39;00m pols)\n\u001b[0;32m     64\u001b[0m \u001b[38;5;28mprint\u001b[39m(pols)\n\u001b[1;32m---> 65\u001b[0m \u001b[43msetbfieldpol\u001b[49m\u001b[43m(\u001b[49m\u001b[43mpols\u001b[49m\u001b[43m)\u001b[49m\n\u001b[0;32m     66\u001b[0m output, d \u001b[38;5;241m=\u001b[39m getbfieldpol()\n\u001b[0;32m     68\u001b[0m \u001b[38;5;28;01mreturn\u001b[39;00m d, pols\n",
      "Cell \u001b[1;32mIn[7], line 100\u001b[0m, in \u001b[0;36msetbfieldpol\u001b[1;34m(pols)\u001b[0m\n\u001b[0;32m     98\u001b[0m \u001b[38;5;124m\"\u001b[39m\u001b[38;5;124mWrites the polarity to the Arduino relay. Must be a 3-bit string made of 0s and 1s\u001b[39m\u001b[38;5;124m\"\u001b[39m\n\u001b[0;32m     99\u001b[0m settings \u001b[38;5;241m=\u001b[39m \u001b[38;5;124m\"\u001b[39m\u001b[38;5;124mset \u001b[39m\u001b[38;5;124m\"\u001b[39m \u001b[38;5;241m+\u001b[39m pols \u001b[38;5;241m+\u001b[39m \u001b[38;5;124m'\u001b[39m\u001b[38;5;130;01m\\n\u001b[39;00m\u001b[38;5;124m'\u001b[39m\n\u001b[1;32m--> 100\u001b[0m \u001b[43marduino\u001b[49m\u001b[38;5;241;43m.\u001b[39;49m\u001b[43mwrite\u001b[49m(\u001b[38;5;28mbytes\u001b[39m(settings, \u001b[38;5;124m'\u001b[39m\u001b[38;5;124mutf-8\u001b[39m\u001b[38;5;124m'\u001b[39m))\n\u001b[0;32m    101\u001b[0m time\u001b[38;5;241m.\u001b[39msleep(\u001b[38;5;241m.1\u001b[39m)\n\u001b[0;32m    102\u001b[0m d \u001b[38;5;241m=\u001b[39m arduino\u001b[38;5;241m.\u001b[39mreadline()\n",
      "\u001b[1;31mAttributeError\u001b[0m: 'Arduino' object has no attribute 'write'"
     ]
    }
   ],
   "source": [
    "setfield(bnorm, phi, theta, magneton)"
   ]
  },
  {
   "cell_type": "code",
   "execution_count": 15,
   "metadata": {},
   "outputs": [
    {
     "data": {
      "text/plain": [
       "17"
      ]
     },
     "execution_count": 15,
     "metadata": {},
     "output_type": "execute_result"
    }
   ],
   "source": [
    "keithley.write(\"OUTP:STAT:ALL ON\")"
   ]
  },
  {
   "cell_type": "code",
   "execution_count": 16,
   "metadata": {},
   "outputs": [
    {
     "data": {
      "text/plain": [
       "'0.00459881\\n'"
      ]
     },
     "execution_count": 16,
     "metadata": {},
     "output_type": "execute_result"
    }
   ],
   "source": [
    "keithley.query(\"MEAS:CURR?\")"
   ]
  },
  {
   "cell_type": "markdown",
   "metadata": {},
   "source": [
    "### TURN OFF KEITHLEY OUTPUTS AFTER MEASUREMENTS"
   ]
  },
  {
   "cell_type": "code",
   "execution_count": null,
   "metadata": {},
   "outputs": [],
   "source": [
    "import numpy as np\n",
    "def convertpols(pols):\n",
    "    d = int(pols)\n",
    "    op1 = np.floor(d/100)\n",
    "    print(op1)\n",
    "    if op1 == 0: x = 1\n",
    "    else: x = -1\n",
    "    op2 = np.remainder(d, 100)\n",
    "    op2 = np.floor(op2/10)\n",
    "    print(op2)\n",
    "    if np.floor(op2) == 0: y = 1\n",
    "    else: y = -1\n",
    "    op3 = np.remainder(d,10)\n",
    "    print(op3)\n",
    "    if np.floor(op3) == 0: z = 1\n",
    "    else: z = -1\n",
    "    print(x,y,z)\n",
    "    return x, y, z\n"
   ]
  },
  {
   "cell_type": "code",
   "execution_count": null,
   "metadata": {},
   "outputs": [],
   "source": [
    "convertpols(\"011\")"
   ]
  },
  {
   "cell_type": "code",
   "execution_count": null,
   "metadata": {},
   "outputs": [],
   "source": [
    "d = 101\n",
    "op1= np.divmod(d, 100)\n",
    "op2 = np.divmod(d, 10)\n",
    "op3 = np.divmod(d, 1)\n"
   ]
  },
  {
   "cell_type": "code",
   "execution_count": null,
   "metadata": {},
   "outputs": [],
   "source": [
    "print(op1, op2, op3)"
   ]
  },
  {
   "cell_type": "code",
   "execution_count": 2,
   "metadata": {},
   "outputs": [],
   "source": [
    "import pyfirmata\n",
    "import time"
   ]
  },
  {
   "cell_type": "code",
   "execution_count": 3,
   "metadata": {},
   "outputs": [],
   "source": [
    "board = pyfirmata.Arduino(\"COM4\")\n",
    "it = pyfirmata.util.Iterator(board)\n",
    "it.start()"
   ]
  },
  {
   "cell_type": "code",
   "execution_count": 5,
   "metadata": {},
   "outputs": [],
   "source": [
    "def controlrelay(input):\n",
    "    s = input.split()\n",
    "    mode = s[0]\n",
    "    arg = s[1]\n",
    "    if mode == \"set\":\n",
    "        setrelay(arg)\n",
    "        read = getrelay()\n",
    "    else: \n",
    "        read = getrelay\n",
    "    \n",
    "    return mode, arg, read\n",
    "\n",
    "def polarizationflip(pol, channel1, channel2):\n",
    "    if pol==\"1\":\n",
    "        board.digital[channel1].write(1)\n",
    "        board.digital[channel2].write(1)\n",
    "    else: \n",
    "        board.digital[channel1].write(0)\n",
    "        board.digital[channel2].write(0)\n",
    "\n",
    "def setrelay(pols):\n",
    "    polarizationflip(pols[0], 7, 8)\n",
    "    polarizationflip(pols[1], 9, 10)\n",
    "    polarizationflip(pols[2], 11, 12)\n",
    "\n",
    "\n",
    "def getrelay():\n",
    "    pins = [7,8,9,10,11,12]\n",
    "    read = []\n",
    "    for i in pins:\n",
    "        read.append(board.digital[i].read())\n",
    "    return read"
   ]
  },
  {
   "cell_type": "code",
   "execution_count": 20,
   "metadata": {},
   "outputs": [],
   "source": [
    "board.exit()"
   ]
  },
  {
   "cell_type": "code",
   "execution_count": 7,
   "metadata": {},
   "outputs": [
    {
     "data": {
      "text/plain": [
       "('set', '111', [1, 1, 1, 1, 1, 1])"
      ]
     },
     "execution_count": 7,
     "metadata": {},
     "output_type": "execute_result"
    }
   ],
   "source": [
    "controlrelay(\"set 111\")"
   ]
  },
  {
   "cell_type": "code",
   "execution_count": null,
   "metadata": {},
   "outputs": [],
   "source": []
  }
 ],
 "metadata": {
  "kernelspec": {
   "display_name": "keithleycontrol",
   "language": "python",
   "name": "python3"
  },
  "language_info": {
   "codemirror_mode": {
    "name": "ipython",
    "version": 3
   },
   "file_extension": ".py",
   "mimetype": "text/x-python",
   "name": "python",
   "nbconvert_exporter": "python",
   "pygments_lexer": "ipython3",
   "version": "3.10.18"
  }
 },
 "nbformat": 4,
 "nbformat_minor": 2
}
