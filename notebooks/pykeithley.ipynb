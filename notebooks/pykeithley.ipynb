{
 "cells": [
  {
   "cell_type": "markdown",
   "metadata": {},
   "source": [
    "### Initializing Arduino relay, Keithley current source, and coil parameters\n",
    "\n",
    "##### NOTE: Running the \"initialize\" cell more than once per kernel session will throw errors since the resources are already accessed"
   ]
  },
  {
   "cell_type": "code",
   "execution_count": 1,
   "metadata": {},
   "outputs": [],
   "source": [
    "arduinoport = \"COM4\"\n",
    "keithleyname = \"ASRL3::INSTR\""
   ]
  },
  {
   "cell_type": "code",
   "execution_count": null,
   "metadata": {},
   "outputs": [],
   "source": []
  },
  {
   "cell_type": "code",
   "execution_count": 2,
   "metadata": {},
   "outputs": [],
   "source": [
    "import serial\n",
    "import time\n",
    "import sys\n",
    "import math as np\n",
    "import pyvisa as visa\n",
    "# visa.log_to_screen()\n",
    "rm = visa.ResourceManager()\n"
   ]
  },
  {
   "cell_type": "code",
   "execution_count": 3,
   "metadata": {},
   "outputs": [
    {
     "name": "stdout",
     "output_type": "stream",
     "text": [
      "Arduino relay initialized\n",
      "Keithley Initialized\n"
     ]
    }
   ],
   "source": [
    "def initializerelay(port):\n",
    "    try:\n",
    "        arduino = serial.Serial(port=port, baudrate=9600, timeout=3) \n",
    "        arduino.flush()\n",
    "        print(\"Arduino relay initialized\")\n",
    "        return arduino\n",
    "    except:\n",
    "        return print(\"Already initialized\")\n",
    "\n",
    "arduino = initializerelay(arduinoport)\n",
    "\n",
    "\n",
    "def initializecoil(port):\n",
    "\n",
    "    keithley = rm.open_resource(port)\n",
    "    keithley.read_terloweration = \"\\n\"\n",
    "    keithley.write_termination = '\\n'\n",
    "    keithley.query(\"*IDN?\")\n",
    "    keithley.write(\"SYST:REM\")\n",
    "    keithley.write(\"OUTP:STAT:ALL OFF\")\n",
    "    keithley.write('APP:VOLT 3.000000,3.000000,3.000000')\n",
    "    keithley.write(\"APP:CURR 0.000000,0.000000,0.000000\")\n",
    "    print(\"Keithley Initialized\")\n",
    "    return keithley\n",
    "\n",
    "keithley = initializecoil(keithleyname)\n",
    "\n",
    "\n",
    "fieldcoeffs = {\n",
    "    'X' : [1.36932, -0.0174511], ##slope, intercept\n",
    "    'Y' : [2.13605, 0.0259495],\n",
    "    'Z' : [1.24437, -0.0123547],\n",
    "}"
   ]
  },
  {
   "cell_type": "markdown",
   "metadata": {},
   "source": [
    "### Control functions for Arduino and Keithley"
   ]
  },
  {
   "cell_type": "code",
   "execution_count": 4,
   "metadata": {},
   "outputs": [],
   "source": [
    "###Keithley controls\n",
    "def querychannel(inst, channel): ##inst is almost always going to be Keithley\n",
    "    \"Returns a dictionary, dat, with the channel number, current set, and voltage set off the current source\"\n",
    "    inst.write(\"INST:NSEL \" + str(channel))\n",
    "    dat = {}\n",
    "    dat['channel'] = inst.query(\"INST?\")\n",
    "    dat['current'] = inst.query(\"MEAS:CURR?\")\n",
    "    dat['voltage'] = inst.query(\"MEAS:VOLT?\")\n",
    "    return dat\n",
    "\n",
    "def query3channels(inst):\n",
    "    \"Returns a dictionary of the current and voltage set on all three x,y,z channels off the current source\"\n",
    "    dat = {}\n",
    "    dat[\"X\"] = querychannel(inst, 1)\n",
    "    dat[\"Y\"] = querychannel(inst, 2)\n",
    "    dat[\"Z\"] = querychannel(inst, 3)\n",
    "    return dat\n",
    "\n",
    "def write3channels(inst, TYPE, x, y, z):\n",
    "    \"Writes the TYPE (CURR or VOLT) to all three channels x, y, z on the current source\"\n",
    "    s = \"APP:\" + TYPE + \" \" + str(abs(x)) + \",\"+str(abs(y))+\",\" + str(abs(z))\n",
    "    inst.write(s)\n",
    "    return s\n",
    "\n",
    "def fieldtocurrent(B, phi, theta, fieldcoeffs, lower, upper):\n",
    "    \"Converts the Bnorm, phi, and theta input values into x, y, z, current values using calibration parameters in fieldcoeffs\"\n",
    "    x, errx = calibbfieldtocurr(fieldcoeffs['X'], B * np.sin(theta)* np.cos(phi), lower, upper)\n",
    "    y, erry = calibbfieldtocurr(fieldcoeffs['Y'], B * np.sin(theta) * np.sin(phi), lower, upper)\n",
    "    z, errz = calibbfieldtocurr(fieldcoeffs['Z'], B * np.cos(theta), lower, upper)\n",
    "    if errx==erry==errz==None: return x,y,z, None\n",
    "    else: return x,y,z, [errx, erry, errz]\n",
    "\n",
    "def calibbfieldtocurr(fieldcoeffs, x, lower, upper):\n",
    "    \"Calibrates the field to current conversion using parameters in fieldcoeffs\"\n",
    "    y = (x - fieldcoeffs[1])/fieldcoeffs[0]\n",
    "    if lower<=y<=upper:\n",
    "        return y, None\n",
    "    elif y>upper: return upper, \"Current clipped to \" + str(upper) + \"A\"\n",
    "    elif y<lower: return lower, \"Current clipped to \" + str(lower) + \"A\"\n",
    "\n",
    "def setpolarity(x,y,z):\n",
    "    \"Determines the 3-bit polarity string to send to the Arduino Relay. 0 for positive polarity, 1 for negative polarity\"\n",
    "    pols = []\n",
    "    if abs(x) == x: pols.append(0)\n",
    "    else: pols.append(1)\n",
    "\n",
    "    if abs(y) == y: pols.append(0)\n",
    "    else: pols.append(1)\n",
    "\n",
    "    if abs(z) == z: pols.append(0)\n",
    "    else: pols.append(1)\n",
    "    pols = \"\".join(str(pol) for pol in pols)\n",
    "    setbfieldpol(pols)\n",
    "    output, d = getbfieldpol()\n",
    "\n",
    "    return d, pols\n",
    "\n",
    "\n",
    "def currenttofield(fieldcoeffs, x1, y1, z1):\n",
    "    \"Converts the x,y,z current input values into bnorm, phi, and theta values using calibration parameters in fieldcoeffs\"\n",
    "\n",
    "    x = calibcurrtobfield(fieldcoeffs[\"X\"], x1)\n",
    "    y = calibcurrtobfield(fieldcoeffs[\"Y\"], y1)\n",
    "    z = calibcurrtobfield(fieldcoeffs[\"Z\"], z1)\n",
    "\n",
    "    bnorm = np.sqrt(x**2 + y**2 + z**2)\n",
    "    phi = np.atan(y/x)\n",
    "    theta = np.acos(z/bnorm)\n",
    "    return bnorm, phi, theta\n",
    "\n",
    "def calibcurrtobfield(fieldcoeffs, x):\n",
    "    \"Calibrates the current to field conversion using parameters in fieldcoeffs\"\n",
    "    return (x * fieldcoeffs[0]) + fieldcoeffs[1]\n",
    "    \n",
    "\n",
    "def keithleyoff():\n",
    "    keithley.write(\"OUTP:STAT:ALL OFF\")\n",
    "    if keithley.query(\"OUTP:STAT:ALL?\")== '0\\n':\n",
    "        print(\"Keithley outputs disabled\")\n",
    "    else: print(\"Error, outputs may not be disabled\")\n",
    "\n",
    "\n",
    "###Arduino controls\n",
    "def setbfieldpol(pols): ####neg = 1, pos = 0\n",
    "    \"Writes the polarity to the Arduino relay. Must be a 3-bit string made of 0s and 1s\"\n",
    "    settings = \"set \" + pols + '\\n'\n",
    "    arduino.write(bytes(settings, 'utf-8'))\n",
    "    time.sleep(.1)\n",
    "    d = arduino.readline()\n",
    "    arduino.flush()\n",
    "    arduino.sendBreak()\n",
    "    arduino.flush()\n",
    "    return d\n",
    "\n",
    "def getbfieldpol():\n",
    "    \"Reads the field polarities from the Arduino relay\"\n",
    "    settings = 'get \\n'\n",
    "    arduino.write(bytes(settings, 'utf-8'))\n",
    "    time.sleep(.1)\n",
    "    output = {}\n",
    "    d1 = arduino.readline()\n",
    "    d = int(d1)\n",
    "    op1 = np.floor(d/100)\n",
    "    if op1 == 0: output['op1'] = 'out'\n",
    "    else: output['op1'] = 'in'\n",
    "    op2 = np.remainder(d, 100)\n",
    "    if np.floor(op2) == 0: output['op2'] = 'out'\n",
    "    else: output['op2'] = 'in'\n",
    "    op3 = np.remainder(d,10)\n",
    "    if np.floor(op3) == 0: output['op3'] = 'out'\n",
    "    else: output['op3'] = 'in'\n",
    "    arduino.flush()\n",
    "    arduino.sendBreak()\n",
    "    arduino.flush()    \n",
    "    return output, d1\n",
    "\n",
    "def setfield(bnorm, phi, theta, magneton):\n",
    "    if magneton == True:\n",
    "        keithley.write(\"OUTP:STAT:ALL ON\")\n",
    "\n",
    "    x,y,z, errs = fieldtocurrent(bnorm, phi, theta, fieldcoeffs, -3., 3.) ## Step 1 Convert input B field values to current values\n",
    "    print(\"Any clipped currents? \", errs)\n",
    "\n",
    "    d,pols = setpolarity(x,y,z) ##Step 2 set the Arduino relay polarities\n",
    "    print(\"String sent to Arduino relay and string read from Arduino: \", d, pols) ###d and pols should be the same (pols is what you're trying to set, d is what is read out)\n",
    "\n",
    "\n",
    "    s = write3channels(keithley, \"CURR\", x,y,z) ##Step 3 sets the current (using absolute values since this is setting to the Keithley and the Arduino will deal with the polarities)\n",
    "    print(\"String sent to kethiley: \", s)\n",
    "    dat = query3channels(keithley)\n",
    "    print(\"Final readings from Keithley: \", dat)\n",
    "    xf = float(dat[\"X\"][\"current\"])\n",
    "    yf = float(dat[\"Y\"][\"current\"])\n",
    "    zf = float(dat[\"Z\"][\"current\"])\n",
    "\n",
    "    bnormf, phif, thetaf = currenttofield(fieldcoeffs, xf, yf, zf) ##Convert read values to field values\n",
    "    print(\"Field set. Magnetic field readings:\")\n",
    "    print(\"Set Bnorm\", bnorm, \"\\t\", \"Read Bnorm\", bnormf)\n",
    "    print(\"Set phi\", phi, \"\\t\", \"Read phi\", phif)\n",
    "    print(\"Set theta\", theta, \"\\t\", \"Read theta\", thetaf)\n"
   ]
  },
  {
   "cell_type": "markdown",
   "metadata": {},
   "source": [
    "### Run cells up to here to initialize magnet system. Change parameters below before moving on."
   ]
  },
  {
   "cell_type": "code",
   "execution_count": 5,
   "metadata": {},
   "outputs": [],
   "source": [
    "bnorm = 0.5 ## in mT\n",
    "phi = 0.7\n",
    "theta = 1.57\n",
    "magneton = True\n"
   ]
  },
  {
   "cell_type": "markdown",
   "metadata": {},
   "source": [
    "### Run to set field"
   ]
  },
  {
   "cell_type": "code",
   "execution_count": 6,
   "metadata": {},
   "outputs": [
    {
     "name": "stdout",
     "output_type": "stream",
     "text": [
      "Any clipped currents?  None\n",
      "String sent to Arduino relay and string read from Arduino:  b'000\\n' 000\n",
      "String sent to kethiley:  APP:CURR 0.29202237051141416,0.13864808477722215,0.010248449701749988\n",
      "Final readings from Keithley:  {'X': {'channel': 'CH1\\n', 'current': '0.287509\\n', 'voltage': '2.8496\\n'}, 'Y': {'channel': 'CH2\\n', 'current': '0.138079\\n', 'voltage': '1.40359\\n'}, 'Z': {'channel': 'CH3\\n', 'current': '0.0087554\\n', 'voltage': '0.00632672\\n'}}\n",
      "Field set. Magnetic field readings:\n",
      "Set Bnorm 0.5 \t Read Bnorm 0.49450139085380435\n",
      "Set phi 0.7 \t Read phi 0.7061713089257263\n",
      "Set theta 1.57 \t Read theta 1.5737482801140206\n"
     ]
    }
   ],
   "source": [
    "setfield(bnorm, phi, theta, magneton)"
   ]
  },
  {
   "cell_type": "markdown",
   "metadata": {},
   "source": [
    "### TURN OFF KEITHLEY OUTPUTS AFTER MEASUREMENTS"
   ]
  },
  {
   "cell_type": "code",
   "execution_count": 7,
   "metadata": {},
   "outputs": [
    {
     "name": "stdout",
     "output_type": "stream",
     "text": [
      "Any clipped currents?  None\n",
      "String sent to Arduino relay and string read from Arduino:  b'010\\n' 010\n",
      "String sent to kethiley:  APP:CURR 0.012744354862267403,0.012148357950422508,0.009928477864300811\n",
      "Final readings from Keithley:  {'X': {'channel': 'CH1\\n', 'current': '0.0173969\\n', 'voltage': '0.139456\\n'}, 'Y': {'channel': 'CH2\\n', 'current': '0.0119476\\n', 'voltage': '0.164484\\n'}, 'Z': {'channel': 'CH3\\n', 'current': '0.0087554\\n', 'voltage': '0.00549425\\n'}}\n",
      "Field set. Magnetic field readings:\n",
      "Set Bnorm 0 \t Read Bnorm 0.051883491951908944\n",
      "Set phi 0 \t Read phi 1.447645702261774\n",
      "Set theta 0 \t Read theta 1.5989350564636895\n"
     ]
    }
   ],
   "source": [
    "setfield(0,0,0, True)\n",
    "# keithleyoff()"
   ]
  },
  {
   "cell_type": "code",
   "execution_count": null,
   "metadata": {},
   "outputs": [],
   "source": []
  }
 ],
 "metadata": {
  "kernelspec": {
   "display_name": "keithleycontrol",
   "language": "python",
   "name": "python3"
  },
  "language_info": {
   "codemirror_mode": {
    "name": "ipython",
    "version": 3
   },
   "file_extension": ".py",
   "mimetype": "text/x-python",
   "name": "python",
   "nbconvert_exporter": "python",
   "pygments_lexer": "ipython3",
   "version": "3.10.18"
  }
 },
 "nbformat": 4,
 "nbformat_minor": 2
}
