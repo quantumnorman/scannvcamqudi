{
 "cells": [
  {
   "cell_type": "code",
   "execution_count": 16,
   "id": "52ed3142",
   "metadata": {},
   "outputs": [],
   "source": [
    "d = {\n",
    "    '1': {\n",
    "        '.1':10, \n",
    "        '.2': 100},\n",
    "    '2': {\n",
    "        '.1':20, \n",
    "        \".2\":200},\n",
    "         \"3\":{'.1': 30, '.2':300}}"
   ]
  },
  {
   "cell_type": "code",
   "execution_count": null,
   "id": "4a0fc328",
   "metadata": {},
   "outputs": [],
   "source": []
  },
  {
   "cell_type": "code",
   "execution_count": 23,
   "id": "cfecf9be",
   "metadata": {},
   "outputs": [
    {
     "name": "stdout",
     "output_type": "stream",
     "text": [
      "{'.1': 10, '.2': 100}\n",
      "amplitude\n",
      "10\n",
      "{'.1': 20, '.2': 200}\n",
      "amplitude\n",
      "20\n",
      "{'.1': 30, '.2': 300}\n",
      "amplitude\n",
      "30\n"
     ]
    }
   ],
   "source": [
    "for i in d:\n",
    "    print(d[i])\n",
    "    print('amplitude')\n",
    "    print(d[i]['.1'])"
   ]
  },
  {
   "cell_type": "markdown",
   "id": "380b5b98",
   "metadata": {},
   "source": []
  }
 ],
 "metadata": {
  "kernelspec": {
   "display_name": "scannv",
   "language": "python",
   "name": "python3"
  },
  "language_info": {
   "codemirror_mode": {
    "name": "ipython",
    "version": 3
   },
   "file_extension": ".py",
   "mimetype": "text/x-python",
   "name": "python",
   "nbconvert_exporter": "python",
   "pygments_lexer": "ipython3",
   "version": "3.9.21"
  }
 },
 "nbformat": 4,
 "nbformat_minor": 5
}
